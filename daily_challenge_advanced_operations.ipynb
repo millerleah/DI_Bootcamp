{
 "cells": [
  {
   "cell_type": "code",
   "execution_count": 4,
   "id": "853187ef",
   "metadata": {},
   "outputs": [],
   "source": [
    "import numpy as np"
   ]
  },
  {
   "cell_type": "code",
   "execution_count": 36,
   "id": "5fecfba7",
   "metadata": {},
   "outputs": [
    {
     "name": "stdout",
     "output_type": "stream",
     "text": [
      "[[35 23 94  6 87]\n",
      " [93 29 51  1 76]\n",
      " [97 35 80 30 92]\n",
      " [54 41 46 67 60]\n",
      " [57 21 56 18 25]]\n"
     ]
    }
   ],
   "source": [
    "data = np.array(np.random.randint(1, 100, size=25)).reshape(5,5)\n",
    "print(data)"
   ]
  },
  {
   "cell_type": "markdown",
   "id": "2dee938c",
   "metadata": {},
   "source": [
    "1. Matrix manipulation - Swap the second and fourth rows of the data matrix."
   ]
  },
  {
   "cell_type": "code",
   "execution_count": 37,
   "id": "a1465a71",
   "metadata": {
    "scrolled": true
   },
   "outputs": [
    {
     "name": "stdout",
     "output_type": "stream",
     "text": [
      "[[35 23 94  6 87]\n",
      " [54 41 46 67 60]\n",
      " [97 35 80 30 92]\n",
      " [93 29 51  1 76]\n",
      " [57 21 56 18 25]]\n"
     ]
    }
   ],
   "source": [
    "data[[1, 3]] = data[[3, 1]]\n",
    "print(data)"
   ]
  },
  {
   "cell_type": "markdown",
   "id": "67736d46",
   "metadata": {},
   "source": [
    "2. Normalization- Normalize all the elements in the data matrix. In this context, normalizing means to scale the values in such a way that they fall within the range of 0 and 1. To achieve this, subtract the minimum value from each element and divide by the range (max-min)."
   ]
  },
  {
   "cell_type": "code",
   "execution_count": 38,
   "id": "0b3c9883",
   "metadata": {},
   "outputs": [
    {
     "name": "stdout",
     "output_type": "stream",
     "text": [
      "[[0.35416667 0.22916667 0.96875    0.05208333 0.89583333]\n",
      " [0.55208333 0.41666667 0.46875    0.6875     0.61458333]\n",
      " [1.         0.35416667 0.82291667 0.30208333 0.94791667]\n",
      " [0.95833333 0.29166667 0.52083333 0.         0.78125   ]\n",
      " [0.58333333 0.20833333 0.57291667 0.17708333 0.25      ]]\n"
     ]
    }
   ],
   "source": [
    "normalized_data = (data - np.min(data)) / (np.max(data) - np.min(data))\n",
    "print(normalized_data)"
   ]
  },
  {
   "cell_type": "markdown",
   "id": "03d8d8e2",
   "metadata": {},
   "source": [
    "3. Z-score normalization - Standardize the elements in the data matrix using Z-score normalization. In this method, all the elements will be rescaled to have a mean of 0 and a standard deviation of 1. The formula for Z-score normalization is\n",
    "(X - mean) / std , where ( X ) is the element in the data matrix."
   ]
  },
  {
   "cell_type": "code",
   "execution_count": 39,
   "id": "59bd6580",
   "metadata": {},
   "outputs": [
    {
     "name": "stdout",
     "output_type": "stream",
     "text": [
      "[[-5.62656454e-01 -9.85706419e-01  1.51733921e+00 -1.58502720e+00\n",
      "   1.27056006e+00]\n",
      " [ 1.07172658e-01 -3.51131471e-01 -1.74860652e-01  5.65476787e-01\n",
      "   3.18697641e-01]\n",
      " [ 1.62310170e+00 -5.62656454e-01  1.02378092e+00 -7.38927273e-01\n",
      "   1.44683088e+00]\n",
      " [ 1.48208505e+00 -7.74181436e-01  1.41016655e-03 -1.76129802e+00\n",
      "   8.82764261e-01]\n",
      " [ 2.12935149e-01 -1.05621475e+00  1.77680985e-01 -1.16197724e+00\n",
      "  -9.15198092e-01]]\n"
     ]
    }
   ],
   "source": [
    "z_score_data = (data - np.mean(data)) / np.std(data)\n",
    "print(z_score_data)"
   ]
  },
  {
   "cell_type": "markdown",
   "id": "a32073f1",
   "metadata": {},
   "source": [
    "4. Array splitting - Reshape the data matrix into a vector (Hint: use np.ravel) and split this array into five equal-sized sub-arrays."
   ]
  },
  {
   "cell_type": "code",
   "execution_count": 41,
   "id": "014d50d0",
   "metadata": {},
   "outputs": [
    {
     "name": "stdout",
     "output_type": "stream",
     "text": [
      "[array([35, 23, 94,  6, 87]), array([54, 41, 46, 67, 60]), array([97, 35, 80, 30, 92]), array([93, 29, 51,  1, 76]), array([57, 21, 56, 18, 25])]\n"
     ]
    }
   ],
   "source": [
    "vector_data = np.ravel(data)\n",
    "sub_arrays = np.split(vector_data, 5)\n",
    "print(sub_arrays)"
   ]
  },
  {
   "cell_type": "markdown",
   "id": "97dd0f12",
   "metadata": {},
   "source": [
    "5. Dot product - Create two vectors of size 5 with any values. Compute the dot product of thetwo vectors*."
   ]
  },
  {
   "cell_type": "code",
   "execution_count": 68,
   "id": "a10de1ed",
   "metadata": {},
   "outputs": [
    {
     "name": "stdout",
     "output_type": "stream",
     "text": [
      "[3 5 6 7 8]\n",
      "[ 2  4  6  8 10]\n"
     ]
    }
   ],
   "source": [
    "data1 = np.array([3, 5, 6, 7, 8])\n",
    "vector_a = np.ravel(data1)\n",
    "data2 = np.array([2, 4, 6, 8, 10])\n",
    "vector_b = np.ravel(data2)\n",
    "print(vector_a)\n",
    "print(vector_b)"
   ]
  },
  {
   "cell_type": "code",
   "execution_count": 69,
   "id": "55021141",
   "metadata": {},
   "outputs": [
    {
     "name": "stdout",
     "output_type": "stream",
     "text": [
      "198\n"
     ]
    }
   ],
   "source": [
    "dot_product  =  np.dot(vector_a, vector_b)\n",
    "print(dot_product)"
   ]
  },
  {
   "cell_type": "markdown",
   "id": "57abf234",
   "metadata": {},
   "source": [
    "6. Matrix multiplication - Create another 3x3 matrix with any values (let’s call it data3). Perform matrix multiplication (dot product of data (first 3x3 part) and data3)."
   ]
  },
  {
   "cell_type": "code",
   "execution_count": 83,
   "id": "17bcc9c2",
   "metadata": {},
   "outputs": [
    {
     "name": "stdout",
     "output_type": "stream",
     "text": [
      "[[1 2 3]\n",
      " [4 5 6]\n",
      " [7 8 9]]\n"
     ]
    }
   ],
   "source": [
    "data3 = np.arange(1, 10).reshape(3, 3)\n",
    "print(data3)"
   ]
  },
  {
   "cell_type": "code",
   "execution_count": 65,
   "id": "746c4f21",
   "metadata": {},
   "outputs": [
    {
     "name": "stdout",
     "output_type": "stream",
     "text": [
      "[[ 785  937 1089]\n",
      " [ 540  681  822]\n",
      " [ 797 1009 1221]]\n"
     ]
    }
   ],
   "source": [
    "multiplication_result = np.matmul(data[:3, :3], data3)\n",
    "print(multiplication_result)"
   ]
  },
  {
   "cell_type": "markdown",
   "id": "3dd5716c",
   "metadata": {},
   "source": [
    "7. Inverse of a matrix - Create a 3x3 identity matrix*, multiply it with 2 and compute its inverse."
   ]
  },
  {
   "cell_type": "code",
   "execution_count": 51,
   "id": "b9f01c88",
   "metadata": {},
   "outputs": [],
   "source": [
    "from numpy.linalg import inv"
   ]
  },
  {
   "cell_type": "code",
   "execution_count": 74,
   "id": "abecc53f",
   "metadata": {},
   "outputs": [
    {
     "name": "stdout",
     "output_type": "stream",
     "text": [
      "[[1. 0. 0.]\n",
      " [0. 1. 0.]\n",
      " [0. 0. 1.]]\n"
     ]
    }
   ],
   "source": [
    "matrix = np.eye(3)\n",
    "print(matrix)"
   ]
  },
  {
   "cell_type": "code",
   "execution_count": 75,
   "id": "9a8026e3",
   "metadata": {},
   "outputs": [
    {
     "name": "stdout",
     "output_type": "stream",
     "text": [
      "[[2. 0. 0.]\n",
      " [0. 2. 0.]\n",
      " [0. 0. 2.]]\n",
      "[[0.5 0.  0. ]\n",
      " [0.  0.5 0. ]\n",
      " [0.  0.  0.5]]\n"
     ]
    }
   ],
   "source": [
    "mult_x2 = matrix * 2\n",
    "print(mult_x2)\n",
    "\n",
    "inverse = inv(mult_x2)  \n",
    "print(inverse)"
   ]
  },
  {
   "cell_type": "markdown",
   "id": "dea70200",
   "metadata": {},
   "source": [
    "8. Eigenvalues and eigenvectors - For the first 3x3 part of the data matrix, compute the eigenvalues and eigenvectors*."
   ]
  },
  {
   "cell_type": "code",
   "execution_count": 76,
   "id": "896ff1bb",
   "metadata": {},
   "outputs": [],
   "source": [
    "from numpy import linalg as la"
   ]
  },
  {
   "cell_type": "code",
   "execution_count": 82,
   "id": "7d7567a3",
   "metadata": {},
   "outputs": [
    {
     "name": "stdout",
     "output_type": "stream",
     "text": [
      "[176.8880524  -39.92674615  19.03869375]\n",
      "[[-0.54195786 -0.78960396  0.22141386]\n",
      " [-0.45463373  0.19644745 -0.95525218]\n",
      " [-0.7068167   0.5813209   0.19613559]]\n"
     ]
    }
   ],
   "source": [
    "eigenvalues, eigenvectors = la.eig(data[:3, :3])\n",
    "print(eigenvalues)\n",
    "print(eigenvectors)"
   ]
  },
  {
   "cell_type": "markdown",
   "id": "f671d413",
   "metadata": {},
   "source": [
    "9. Find missing values - Replace random 5 elements in the data matrix with np.nan. Find the indices of the missing values."
   ]
  },
  {
   "cell_type": "code",
   "execution_count": 86,
   "id": "96050650",
   "metadata": {},
   "outputs": [],
   "source": [
    "data_matrix = np.random.randint(0, 100, size=(5, 5)).astype(float)"
   ]
  },
  {
   "cell_type": "code",
   "execution_count": 87,
   "id": "adf85a20",
   "metadata": {},
   "outputs": [],
   "source": [
    "missing_indices = np.random.randint(0, 5, size=(5, 2))"
   ]
  },
  {
   "cell_type": "code",
   "execution_count": 88,
   "id": "ed2fe3b1",
   "metadata": {},
   "outputs": [],
   "source": [
    "for i, j in missing_indices:\n",
    "    if i < 5 and j < 5:  \n",
    "        data_matrix[i, j] = np.nan"
   ]
  },
  {
   "cell_type": "markdown",
   "id": "4defb2bb",
   "metadata": {},
   "source": [
    "10. Replace missing values - Replace the missing values in the data matrix with the mean of the matrix (ignoring the missing values while computing the mean)."
   ]
  },
  {
   "cell_type": "code",
   "execution_count": 89,
   "id": "2cc01a1c",
   "metadata": {},
   "outputs": [],
   "source": [
    "mean_val = np.nanmean(data_matrix)"
   ]
  },
  {
   "cell_type": "code",
   "execution_count": 90,
   "id": "719f29ca",
   "metadata": {},
   "outputs": [],
   "source": [
    "data_matrix[np.isnan(data_matrix)] = mean_val"
   ]
  },
  {
   "cell_type": "code",
   "execution_count": 91,
   "id": "f85b5fe7",
   "metadata": {},
   "outputs": [
    {
     "name": "stdout",
     "output_type": "stream",
     "text": [
      "[[50.         95.         29.         51.76190476 56.        ]\n",
      " [49.         64.         23.         64.         27.        ]\n",
      " [59.         32.         72.         54.         51.76190476]\n",
      " [51.76190476 15.         11.         87.         94.        ]\n",
      " [67.         51.76190476 21.         65.         53.        ]]\n"
     ]
    }
   ],
   "source": [
    "print(data_matrix)"
   ]
  }
 ],
 "metadata": {
  "kernelspec": {
   "display_name": "Python 3 (ipykernel)",
   "language": "python",
   "name": "python3"
  },
  "language_info": {
   "codemirror_mode": {
    "name": "ipython",
    "version": 3
   },
   "file_extension": ".py",
   "mimetype": "text/x-python",
   "name": "python",
   "nbconvert_exporter": "python",
   "pygments_lexer": "ipython3",
   "version": "3.11.5"
  }
 },
 "nbformat": 4,
 "nbformat_minor": 5
}
