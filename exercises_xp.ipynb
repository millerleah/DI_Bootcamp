{
 "cells": [
  {
   "cell_type": "markdown",
   "id": "40b82dc5",
   "metadata": {},
   "source": [
    "Exercise 1:"
   ]
  },
  {
   "cell_type": "markdown",
   "id": "622c45cd",
   "metadata": {},
   "source": [
    "Instructions"
   ]
  },
  {
   "cell_type": "markdown",
   "id": "2b5e2ce1",
   "metadata": {},
   "source": [
    "1. Import the numpy package under the name np."
   ]
  },
  {
   "cell_type": "code",
   "execution_count": 1,
   "id": "d5f8373c",
   "metadata": {},
   "outputs": [],
   "source": [
    "import numpy as np"
   ]
  },
  {
   "cell_type": "markdown",
   "id": "f090127c",
   "metadata": {},
   "source": [
    "2. Create a vector* of zeros with size 10 using np.zeros()."
   ]
  },
  {
   "cell_type": "code",
   "execution_count": 15,
   "id": "ef4c764f",
   "metadata": {},
   "outputs": [
    {
     "name": "stdout",
     "output_type": "stream",
     "text": [
      "[0. 0. 0. 0. 0. 0. 0. 0. 0. 0.]\n"
     ]
    }
   ],
   "source": [
    "zero_vector = np.zeros(10)\n",
    "print(zero_vector)"
   ]
  },
  {
   "cell_type": "markdown",
   "id": "65b3aa71",
   "metadata": {},
   "source": [
    "3. Compute the memory size* of any array. Note: You can do this by multiplying the length of the array by the size of one array element, which you can find using the .itemsize attribute."
   ]
  },
  {
   "cell_type": "code",
   "execution_count": 17,
   "id": "bd6e188a",
   "metadata": {},
   "outputs": [
    {
     "name": "stdout",
     "output_type": "stream",
     "text": [
      "80\n"
     ]
    }
   ],
   "source": [
    "item_size = zero_vector.itemsize * zero_vector.size\n",
    "print(item_size)"
   ]
  },
  {
   "cell_type": "markdown",
   "id": "1a591df6",
   "metadata": {},
   "source": [
    "4. Retrieve the documentation of the numpy add function from the command line."
   ]
  },
  {
   "cell_type": "code",
   "execution_count": 18,
   "id": "d735217e",
   "metadata": {},
   "outputs": [
    {
     "name": "stdout",
     "output_type": "stream",
     "text": [
      "add(x1, x2, /, out=None, *, where=True, casting='same_kind', order='K', dtype=None, subok=True[, signature, extobj])\n",
      "\n",
      "Add arguments element-wise.\n",
      "\n",
      "Parameters\n",
      "----------\n",
      "x1, x2 : array_like\n",
      "    The arrays to be added.\n",
      "    If ``x1.shape != x2.shape``, they must be broadcastable to a common\n",
      "    shape (which becomes the shape of the output).\n",
      "out : ndarray, None, or tuple of ndarray and None, optional\n",
      "    A location into which the result is stored. If provided, it must have\n",
      "    a shape that the inputs broadcast to. If not provided or None,\n",
      "    a freshly-allocated array is returned. A tuple (possible only as a\n",
      "    keyword argument) must have length equal to the number of outputs.\n",
      "where : array_like, optional\n",
      "    This condition is broadcast over the input. At locations where the\n",
      "    condition is True, the `out` array will be set to the ufunc result.\n",
      "    Elsewhere, the `out` array will retain its original value.\n",
      "    Note that if an uninitialized `out` array is created via the default\n",
      "    ``out=None``, locations within it where the condition is False will\n",
      "    remain uninitialized.\n",
      "**kwargs\n",
      "    For other keyword-only arguments, see the\n",
      "    :ref:`ufunc docs <ufuncs.kwargs>`.\n",
      "\n",
      "Returns\n",
      "-------\n",
      "add : ndarray or scalar\n",
      "    The sum of `x1` and `x2`, element-wise.\n",
      "    This is a scalar if both `x1` and `x2` are scalars.\n",
      "\n",
      "Notes\n",
      "-----\n",
      "Equivalent to `x1` + `x2` in terms of array broadcasting.\n",
      "\n",
      "Examples\n",
      "--------\n",
      ">>> np.add(1.0, 4.0)\n",
      "5.0\n",
      ">>> x1 = np.arange(9.0).reshape((3, 3))\n",
      ">>> x2 = np.arange(3.0)\n",
      ">>> np.add(x1, x2)\n",
      "array([[  0.,   2.,   4.],\n",
      "       [  3.,   5.,   7.],\n",
      "       [  6.,   8.,  10.]])\n",
      "\n",
      "The ``+`` operator can be used as a shorthand for ``np.add`` on ndarrays.\n",
      "\n",
      ">>> x1 = np.arange(9.0).reshape((3, 3))\n",
      ">>> x2 = np.arange(3.0)\n",
      ">>> x1 + x2\n",
      "array([[ 0.,  2.,  4.],\n",
      "       [ 3.,  5.,  7.],\n",
      "       [ 6.,  8., 10.]])\n"
     ]
    }
   ],
   "source": [
    "print(np.add.__doc__)"
   ]
  },
  {
   "cell_type": "markdown",
   "id": "778cde9c",
   "metadata": {},
   "source": [
    "5. Create a vector with values ranging from 10 to 49 using np.arange()."
   ]
  },
  {
   "cell_type": "code",
   "execution_count": 19,
   "id": "95637a00",
   "metadata": {},
   "outputs": [
    {
     "name": "stdout",
     "output_type": "stream",
     "text": [
      "[10 11 12 13 14 15 16 17 18 19 20 21 22 23 24 25 26 27 28 29 30 31 32 33\n",
      " 34 35 36 37 38 39 40 41 42 43 44 45 46 47 48 49]\n"
     ]
    }
   ],
   "source": [
    "range_10_49 = np.arange(10, 50)\n",
    "print(range_10_49)"
   ]
  },
  {
   "cell_type": "markdown",
   "id": "1e708c6c",
   "metadata": {},
   "source": [
    "6. Reverse a vector so the first element becomes last (Hint: Use slicing)."
   ]
  },
  {
   "cell_type": "code",
   "execution_count": 20,
   "id": "2474fa3d",
   "metadata": {},
   "outputs": [
    {
     "name": "stdout",
     "output_type": "stream",
     "text": [
      "[49 48 47 46 45 44 43 42 41 40 39 38 37 36 35 34 33 32 31 30 29 28 27 26\n",
      " 25 24 23 22 21 20 19 18 17 16 15 14 13 12 11 10]\n"
     ]
    }
   ],
   "source": [
    "range_10_49 = range_10_49[::-1]\n",
    "print(range_10_49)"
   ]
  },
  {
   "cell_type": "markdown",
   "id": "d1db7bea",
   "metadata": {},
   "source": [
    "7. Create a 3x3 matrix* with values ranging from 0 to 8 using np.reshape()."
   ]
  },
  {
   "cell_type": "code",
   "execution_count": 26,
   "id": "1bb04d77",
   "metadata": {},
   "outputs": [
    {
     "name": "stdout",
     "output_type": "stream",
     "text": [
      "[[0 1 2]\n",
      " [3 4 5]\n",
      " [6 7 8]]\n"
     ]
    }
   ],
   "source": [
    "range_3x3 = np.arange(9).reshape(3, 3)\n",
    "print(range_3x3)"
   ]
  },
  {
   "cell_type": "markdown",
   "id": "45193aa7",
   "metadata": {},
   "source": [
    "8. Find indices of non-zero elements from [1,2,0,0,4,0] using np.nonzero()."
   ]
  },
  {
   "cell_type": "code",
   "execution_count": 28,
   "id": "8a1fb4aa",
   "metadata": {},
   "outputs": [
    {
     "name": "stdout",
     "output_type": "stream",
     "text": [
      "(array([0, 1, 4], dtype=int64),)\n"
     ]
    }
   ],
   "source": [
    "array = [1,2,0,0,4,0]\n",
    "non_zero = np.nonzero(array)\n",
    "print(non_zero)"
   ]
  },
  {
   "cell_type": "markdown",
   "id": "9dda0552",
   "metadata": {},
   "source": [
    "9. Create a 3x3 identity matrix* using np.eye().s"
   ]
  },
  {
   "cell_type": "code",
   "execution_count": 29,
   "id": "19584234",
   "metadata": {},
   "outputs": [
    {
     "name": "stdout",
     "output_type": "stream",
     "text": [
      "[[1. 0. 0.]\n",
      " [0. 1. 0.]\n",
      " [0. 0. 1.]]\n"
     ]
    }
   ],
   "source": [
    "matrix = np.eye(3)\n",
    "print(matrix)"
   ]
  },
  {
   "cell_type": "markdown",
   "id": "ed2528cf",
   "metadata": {},
   "source": [
    "10. Create a 5x5 matrix with row values ranging from 0 to 4. The output should be a matrix where each row is [0, 1, 2, 3, 4]."
   ]
  },
  {
   "cell_type": "code",
   "execution_count": 41,
   "id": "93ad53e2",
   "metadata": {},
   "outputs": [
    {
     "name": "stdout",
     "output_type": "stream",
     "text": [
      "[[0. 1. 2. 3. 4.]\n",
      " [0. 1. 2. 3. 4.]\n",
      " [0. 1. 2. 3. 4.]\n",
      " [0. 1. 2. 3. 4.]\n",
      " [0. 1. 2. 3. 4.]]\n"
     ]
    }
   ],
   "source": [
    "row_5x5 = np.zeros((5,5))\n",
    "row_5x5 += np.arange(5)\n",
    "print(x)"
   ]
  },
  {
   "cell_type": "markdown",
   "id": "af1bf9cc",
   "metadata": {},
   "source": [
    "11. Create a vector of size 10 with values ranging from 0 to 1, both excluded. You can use np.linspace."
   ]
  },
  {
   "cell_type": "code",
   "execution_count": 48,
   "id": "8a0539d5",
   "metadata": {},
   "outputs": [
    {
     "name": "stdout",
     "output_type": "stream",
     "text": [
      "[0.09090909 0.18181818 0.27272727 0.36363636 0.45454545 0.54545455\n",
      " 0.63636364 0.72727273 0.81818182 0.90909091]\n"
     ]
    }
   ],
   "source": [
    "array_evenspace = np.linspace(0, 1, 12)[1:-1]\n",
    "print(array_evenspace)"
   ]
  },
  {
   "cell_type": "markdown",
   "id": "0290406f",
   "metadata": {},
   "source": [
    "12. Create a random vector of size 10 and sort it."
   ]
  },
  {
   "cell_type": "code",
   "execution_count": 33,
   "id": "dc6874a1",
   "metadata": {},
   "outputs": [
    {
     "name": "stdout",
     "output_type": "stream",
     "text": [
      "[ 2  8 18 23 25 45 50 57 82 97]\n"
     ]
    }
   ],
   "source": [
    "random_array = np.array(np.random.randint(1, 100, size=10))\n",
    "sorted_random_array = np.sort(random_array)\n",
    "print(sorted_random_array)"
   ]
  },
  {
   "cell_type": "markdown",
   "id": "6c6eab0b",
   "metadata": {},
   "source": [
    "13. Print the minimum and maximum representable value for each numpy scalar type* (int8, int32, int64, float32, float64). Use np.iinfo and np.finfo."
   ]
  },
  {
   "cell_type": "code",
   "execution_count": 57,
   "id": "269ef04a",
   "metadata": {},
   "outputs": [
    {
     "name": "stdout",
     "output_type": "stream",
     "text": [
      "-128\n",
      "127\n",
      "-2147483648\n",
      "2147483647\n",
      "-9223372036854775808\n",
      "9223372036854775807\n",
      "-3.4028235e+38\n",
      "3.4028235e+38\n",
      "-1.7976931348623157e+308\n",
      "1.7976931348623157e+308\n"
     ]
    }
   ],
   "source": [
    "int8 = np.iinfo(np.int8)\n",
    "print(int8.min)\n",
    "print(int8.max)\n",
    "int32 = np.iinfo(np.int32)\n",
    "print(int32.min)\n",
    "print(int32.max)\n",
    "int64 = np.iinfo(np.int64)\n",
    "print(int64.min)\n",
    "print(int64.max)\n",
    "float32 = np.finfo(np.float32)\n",
    "print(float32.min)\n",
    "print(float32.max)\n",
    "float64 = np.finfo(np.float64)\n",
    "print(float64.min)\n",
    "print(float64.max)"
   ]
  },
  {
   "cell_type": "markdown",
   "id": "6488b902",
   "metadata": {},
   "source": [
    "14. How to convert a float (32 bits) array into an integer (32 bits) in place? Use np.ndarray.astype."
   ]
  },
  {
   "cell_type": "code",
   "execution_count": 65,
   "id": "685b2557",
   "metadata": {},
   "outputs": [
    {
     "data": {
      "text/plain": [
       "dtype('float32')"
      ]
     },
     "execution_count": 65,
     "metadata": {},
     "output_type": "execute_result"
    }
   ],
   "source": [
    "type_change = np.array([1.0, 2.5, 3.0], dtype = float32)\n",
    "print(type_change.dtype)"
   ]
  },
  {
   "cell_type": "code",
   "execution_count": 66,
   "id": "7a0db026",
   "metadata": {},
   "outputs": [
    {
     "name": "stdout",
     "output_type": "stream",
     "text": [
      "[1 2 3]\n"
     ]
    }
   ],
   "source": [
    "type_changed = type_change.astype(int32)\n",
    "print(type_changed)"
   ]
  },
  {
   "cell_type": "markdown",
   "id": "5a85c4a1",
   "metadata": {},
   "source": [
    "15. Subtract the mean* of each row of a matrix. Use np.mean with axis=1."
   ]
  },
  {
   "cell_type": "code",
   "execution_count": 73,
   "id": "67f3ad93",
   "metadata": {},
   "outputs": [
    {
     "name": "stdout",
     "output_type": "stream",
     "text": [
      "[[ 80  70  90]\n",
      " [ 10  30  20]\n",
      " [110 100 120]\n",
      " [ 40  60  50]]\n"
     ]
    }
   ],
   "source": [
    "matrix = np.array([[80, 70, 90], [10, 30, 20], [110, 100, 120], [40, 60, 50]])\n",
    "print(matrix)"
   ]
  },
  {
   "cell_type": "code",
   "execution_count": 74,
   "id": "cc9294aa",
   "metadata": {},
   "outputs": [
    {
     "name": "stdout",
     "output_type": "stream",
     "text": [
      "[[  0. -10.  10.]\n",
      " [-10.  10.   0.]\n",
      " [  0. -10.  10.]\n",
      " [-10.  10.   0.]]\n"
     ]
    }
   ],
   "source": [
    "mean_subtracted = matrix - matrix.mean(axis=1, keepdims=True)\n",
    "print(mean_subtracted)"
   ]
  },
  {
   "cell_type": "markdown",
   "id": "fa115a98",
   "metadata": {},
   "source": [
    "16. How to sort an array by the nth column? Use np.argsort."
   ]
  },
  {
   "cell_type": "code",
   "execution_count": 75,
   "id": "d3a92fb1",
   "metadata": {},
   "outputs": [
    {
     "name": "stdout",
     "output_type": "stream",
     "text": [
      "[[ 10  30  20]\n",
      " [ 40  60  50]\n",
      " [ 80  70  90]\n",
      " [110 100 120]]\n"
     ]
    }
   ],
   "source": [
    "sorted_matrix = matrix[matrix[:,-1].argsort()]\n",
    "print(sorted_matrix)"
   ]
  },
  {
   "cell_type": "markdown",
   "id": "4c0c8fca",
   "metadata": {},
   "source": [
    "17. How to swap two rows of an array? You can do this using array indexing."
   ]
  },
  {
   "cell_type": "code",
   "execution_count": 76,
   "id": "fd9df59b",
   "metadata": {},
   "outputs": [
    {
     "name": "stdout",
     "output_type": "stream",
     "text": [
      "[[110 100 120]\n",
      " [ 10  30  20]\n",
      " [ 80  70  90]\n",
      " [ 40  60  50]]\n"
     ]
    }
   ],
   "source": [
    "matrix[[0, 2]] = matrix[[2, 0]]\n",
    "print(matrix)"
   ]
  },
  {
   "cell_type": "markdown",
   "id": "59f00eb3",
   "metadata": {},
   "source": [
    "18. Given an array C that is a bincount*, how to produce an array A such that np.bincount(A) == C? Use np.repeat."
   ]
  },
  {
   "cell_type": "code",
   "execution_count": 78,
   "id": "7f3cb5c1",
   "metadata": {},
   "outputs": [],
   "source": [
    "array1  = [2, 2, 1, 1, 1, 0, 0, 0, 3, 3]"
   ]
  },
  {
   "cell_type": "code",
   "execution_count": 79,
   "id": "6ca72400",
   "metadata": {},
   "outputs": [
    {
     "name": "stdout",
     "output_type": "stream",
     "text": [
      "[3 3 2 2]\n"
     ]
    }
   ],
   "source": [
    "c = np.bincount(array1)\n",
    "print(c)"
   ]
  },
  {
   "cell_type": "code",
   "execution_count": 81,
   "id": "363489db",
   "metadata": {},
   "outputs": [
    {
     "name": "stdout",
     "output_type": "stream",
     "text": [
      "[0 0 0 1 1 1 2 2 3 3]\n"
     ]
    }
   ],
   "source": [
    "a = np.repeat(np.arange(len(c)), c)\n",
    "print(a)"
   ]
  }
 ],
 "metadata": {
  "kernelspec": {
   "display_name": "Python 3 (ipykernel)",
   "language": "python",
   "name": "python3"
  },
  "language_info": {
   "codemirror_mode": {
    "name": "ipython",
    "version": 3
   },
   "file_extension": ".py",
   "mimetype": "text/x-python",
   "name": "python",
   "nbconvert_exporter": "python",
   "pygments_lexer": "ipython3",
   "version": "3.11.5"
  }
 },
 "nbformat": 4,
 "nbformat_minor": 5
}
